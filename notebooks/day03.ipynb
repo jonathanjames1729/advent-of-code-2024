{
 "cells": [
  {
   "cell_type": "code",
   "execution_count": null,
   "metadata": {},
   "outputs": [],
   "source": [
    "import re\n",
    "\n",
    "import advent_of_code\n",
    "\n",
    "MUL_RE = re.compile(r'mul\\((\\d+),(\\d+)\\)')\n",
    "\n",
    "result = 0\n",
    "for line in advent_of_code.load_data('day03.txt'):\n",
    "    for match in MUL_RE.finditer(line):\n",
    "        result += int(match.group(1)) * int(match.group(2))\n",
    "\n",
    "result"
   ]
  },
  {
   "cell_type": "code",
   "execution_count": null,
   "metadata": {},
   "outputs": [],
   "source": [
    "MUL_DO_DONT_RE = re.compile(r\"(?:mul\\((\\d+),(\\d+)\\))|(?:do\\(\\))|(?:don't\\(\\))\")\n",
    "\n",
    "result = 0\n",
    "enabled = True\n",
    "for line in advent_of_code.load_data('day03.txt'):\n",
    "    for match in MUL_DO_DONT_RE.finditer(line):\n",
    "        if match.group(0) == \"do()\":\n",
    "            enabled = True\n",
    "        elif match.group(0) == \"don't()\":\n",
    "            enabled = False\n",
    "        elif enabled:\n",
    "            result += int(match.group(1)) * int(match.group(2))\n",
    "\n",
    "result"
   ]
  }
 ],
 "metadata": {
  "kernelspec": {
   "display_name": "Python 3",
   "language": "python",
   "name": "python3"
  },
  "language_info": {
   "codemirror_mode": {
    "name": "ipython",
    "version": 3
   },
   "file_extension": ".py",
   "mimetype": "text/x-python",
   "name": "python",
   "nbconvert_exporter": "python",
   "pygments_lexer": "ipython3",
   "version": "3.13.1"
  }
 },
 "nbformat": 4,
 "nbformat_minor": 2
}
