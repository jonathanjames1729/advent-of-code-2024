{
 "cells": [
  {
   "cell_type": "code",
   "execution_count": null,
   "metadata": {},
   "outputs": [],
   "source": [
    "import re\n",
    "\n",
    "import advent_of_code\n",
    "\n",
    "ROBOT_RE = re.compile(r'^p=(?P<px>-?[0-9]+),(?P<py>-?[0-9]+)\\s+v=(?P<vx>-?[0-9]+),(?P<vy>-?[0-9]+)$')\n",
    "\n",
    "TEST = False\n",
    "DIMENSIONS = (11, 7) if TEST else (101, 103)\n",
    "DURATION = 100\n",
    "\n",
    "robots = []\n",
    "for line in advent_of_code.load_data('day14.txt', test=TEST):\n",
    "    match = ROBOT_RE.fullmatch(line)\n",
    "    robots.append({'position': (int(match['px']), int(match['py'])), 'velocity': (int(match['vx']), int(match['vy']))})\n",
    "\n",
    "positions = []\n",
    "quadrants = {(0, 0): 0, (0, 1): 0, (1,0): 0, (1, 1): 0}\n",
    "for robot in robots:\n",
    "    position = []\n",
    "    quadrant = [None, None]\n",
    "    for i in (0, 1):\n",
    "        position.append((robot['position'][i] + (DURATION * robot['velocity'][i])) % DIMENSIONS[i])\n",
    "        mid = DIMENSIONS[i] // 2\n",
    "        if position[i] < mid:\n",
    "            quadrant[i] = 0\n",
    "        elif position[i] > mid:\n",
    "            quadrant[i] = 1\n",
    "    positions.append(tuple(position))\n",
    "    if quadrant[0] is not None and quadrant[1] is not None:\n",
    "        quadrants[tuple(quadrant)] += 1\n",
    "safety_factor = 1\n",
    "for count in quadrants.values():\n",
    "    safety_factor *= count\n",
    "\n",
    "safety_factor"
   ]
  },
  {
   "cell_type": "code",
   "execution_count": null,
   "metadata": {},
   "outputs": [],
   "source": [
    "\n",
    "duration = 0\n",
    "while True:\n",
    "    positions = set()\n",
    "    for robot in robots:\n",
    "        position = []\n",
    "        for i in (0, 1):\n",
    "            position.append((robot['position'][i] + (duration * robot['velocity'][i])) % DIMENSIONS[i])\n",
    "        positions.add(tuple(position))\n",
    "    if len(positions) == len(robots):\n",
    "        # thanks to reddit \n",
    "        break\n",
    "    duration += 1\n",
    "\n",
    "print(duration)\n",
    "for y in range(DIMENSIONS[1]):\n",
    "    line = []\n",
    "    for x in range(DIMENSIONS[0]):\n",
    "        line.append('#' if (x, y) in positions else ' ')\n",
    "    print(''.join(line))\n"
   ]
  }
 ],
 "metadata": {
  "kernelspec": {
   "display_name": "Python 3",
   "language": "python",
   "name": "python3"
  },
  "language_info": {
   "codemirror_mode": {
    "name": "ipython",
    "version": 3
   },
   "file_extension": ".py",
   "mimetype": "text/x-python",
   "name": "python",
   "nbconvert_exporter": "python",
   "pygments_lexer": "ipython3",
   "version": "3.13.1"
  }
 },
 "nbformat": 4,
 "nbformat_minor": 2
}
