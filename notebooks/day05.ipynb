{
 "cells": [
  {
   "cell_type": "code",
   "execution_count": null,
   "metadata": {},
   "outputs": [],
   "source": [
    "import advent_of_code\n",
    "\n",
    "after = {}\n",
    "updates = None\n",
    "\n",
    "for line in advent_of_code.load_data('day05.txt'):\n",
    "    if not line:\n",
    "        updates = []\n",
    "    elif updates is not None:\n",
    "        updates.append(line.split(','))\n",
    "    else:\n",
    "        rule = line.split('|')\n",
    "        if rule[0] not in after:\n",
    "            after[rule[0]] = set()\n",
    "        after[rule[0]].add(rule[1])\n",
    "                \n",
    "sum = 0\n",
    "incorrect_updates = []\n",
    "for pages in updates:\n",
    "    before = set()\n",
    "    for page in pages:\n",
    "        if page in after and after[page] & before:\n",
    "            incorrect_updates.append(pages)\n",
    "            break\n",
    "        before.add(page)\n",
    "    else:\n",
    "        sum += int(pages[len(pages) // 2])\n",
    "\n",
    "sum"
   ]
  },
  {
   "cell_type": "code",
   "execution_count": null,
   "metadata": {},
   "outputs": [],
   "source": [
    "sum = 0\n",
    "for incorrect_pages in incorrect_updates:\n",
    "    corrected_pages = []\n",
    "    pages = set(incorrect_pages)\n",
    "    while pages:\n",
    "        for page in pages:\n",
    "            for check in pages:\n",
    "                if page in after[check]:\n",
    "                    break\n",
    "            else:\n",
    "                corrected_pages.append(page)\n",
    "                pages.remove(page)\n",
    "                break\n",
    "    sum += int(corrected_pages[len(corrected_pages) // 2])\n",
    "\n",
    "sum"
   ]
  }
 ],
 "metadata": {
  "kernelspec": {
   "display_name": "Python 3",
   "language": "python",
   "name": "python3"
  },
  "language_info": {
   "codemirror_mode": {
    "name": "ipython",
    "version": 3
   },
   "file_extension": ".py",
   "mimetype": "text/x-python",
   "name": "python",
   "nbconvert_exporter": "python",
   "pygments_lexer": "ipython3",
   "version": "3.13.1"
  }
 },
 "nbformat": 4,
 "nbformat_minor": 2
}
