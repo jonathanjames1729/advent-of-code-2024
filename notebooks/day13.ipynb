{
 "cells": [
  {
   "cell_type": "code",
   "execution_count": null,
   "metadata": {},
   "outputs": [],
   "source": [
    "import fractions\n",
    "import re\n",
    "\n",
    "import advent_of_code\n",
    "\n",
    "BUTTON_RE = re.compile(r'^\\s*Button\\s+(?P<button>A|B):\\s+X\\+(?P<x>[0-9]+),\\s+Y\\+(?P<y>[0-9]+)\\s*$')\n",
    "PRIZE_RE = re.compile(r'^\\s*Prize:\\s+X=(?P<x>[0-9]+),\\s+Y=(?P<y>[0-9]+)\\s*$')\n",
    "\n",
    "machines = []\n",
    "machine = {}\n",
    "for line in advent_of_code.load_data('day13.txt'):\n",
    "    if not line:\n",
    "        machines.append(machine)\n",
    "        machine = {}\n",
    "        continue\n",
    "\n",
    "    match=BUTTON_RE.fullmatch(line)\n",
    "    if match:\n",
    "        machine[match['button']] = (int(match['x']), int(match['y']))\n",
    "        continue\n",
    "\n",
    "    match = PRIZE_RE.fullmatch(line)\n",
    "    if match:\n",
    "        machine['prize'] = (int(match['x']), int(match['y']))\n",
    "\n",
    "if machine:\n",
    "    machines.append(machine)\n",
    "\n",
    "total_tokens = 0\n",
    "for machine in machines:\n",
    "    min_tokens = None\n",
    "    for a in range(101):\n",
    "        b, r = divmod(machine['prize'][0] - (a * machine['A'][0]), machine['B'][0])\n",
    "        if r == 0 and ((a * machine['A'][1]) + (b * machine['B'][1])) == machine['prize'][1]:\n",
    "            tokens = (3 * a) + b\n",
    "            if min_tokens is None or tokens < min_tokens:\n",
    "                min_tokens = tokens\n",
    "    if min_tokens:\n",
    "        total_tokens += min_tokens\n",
    "\n",
    "total_tokens"
   ]
  },
  {
   "cell_type": "code",
   "execution_count": null,
   "metadata": {},
   "outputs": [],
   "source": [
    "total_tokens = 0\n",
    "for machine in machines:\n",
    "    a = fractions.Fraction(machine['A'][0], 1)\n",
    "    b = fractions.Fraction(machine['B'][0], 1)\n",
    "    c = fractions.Fraction(machine['A'][1], 1)\n",
    "    d = fractions.Fraction(machine['B'][1], 1)\n",
    "\n",
    "    determinant = (a * d) - (b * c)\n",
    "\n",
    "    x = fractions.Fraction(machine['prize'][0] + 10000000000000, 1)\n",
    "    y = fractions.Fraction(machine['prize'][1] + 10000000000000, 1)\n",
    "\n",
    "    a_tokens = ((d * x) - (b * y)) / determinant\n",
    "    b_tokens = ((a * y) - (c * x)) / determinant\n",
    "\n",
    "    if a_tokens.numerator >= 0 and a_tokens.denominator == 1 and b_tokens.numerator >= 0 and b_tokens.denominator == 1:\n",
    "        total_tokens += (3 * a_tokens.numerator) + b_tokens.numerator\n",
    "\n",
    "total_tokens"
   ]
  }
 ],
 "metadata": {
  "kernelspec": {
   "display_name": "Python 3",
   "language": "python",
   "name": "python3"
  },
  "language_info": {
   "codemirror_mode": {
    "name": "ipython",
    "version": 3
   },
   "file_extension": ".py",
   "mimetype": "text/x-python",
   "name": "python",
   "nbconvert_exporter": "python",
   "pygments_lexer": "ipython3",
   "version": "3.13.1"
  }
 },
 "nbformat": 4,
 "nbformat_minor": 2
}
