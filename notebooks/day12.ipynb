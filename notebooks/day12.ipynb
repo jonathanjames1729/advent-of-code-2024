{
 "cells": [
  {
   "cell_type": "code",
   "execution_count": null,
   "metadata": {},
   "outputs": [],
   "source": [
    "import advent_of_code\n",
    "\n",
    "grid = list(map(list, advent_of_code.load_data('day12.txt')))\n",
    "\n",
    "plants = {}\n",
    "for y, line in enumerate(grid):\n",
    "    for x, plant in enumerate(line):\n",
    "        adjacent = set()\n",
    "        if x > 0 and line[x - 1] == plant:\n",
    "            adjacent.add((x - 1, y))\n",
    "        if y > 0 and grid[y - 1][x] == plant:\n",
    "            adjacent.add((x, y - 1))\n",
    "        try:\n",
    "            if line[x + 1] == plant:\n",
    "                adjacent.add((x + 1, y))\n",
    "        except IndexError:\n",
    "            pass\n",
    "        try:\n",
    "            if grid[y + 1][x] == plant:\n",
    "                adjacent.add((x, y + 1))\n",
    "        except IndexError:\n",
    "            pass\n",
    "        current_region = { (x, y): 4 - len(adjacent) }\n",
    "        other_regions = []\n",
    "        regions = plants.get(plant, [])\n",
    "        while regions:\n",
    "            region = regions.pop()\n",
    "            if adjacent.intersection(region):\n",
    "                current_region.update(region)\n",
    "            else:\n",
    "                other_regions.append(region)\n",
    "        other_regions.append(current_region)\n",
    "        plants[plant] = other_regions\n",
    "\n",
    "price = 0\n",
    "for plant, regions in plants.items():\n",
    "    print(f\"{plant} plants:\")\n",
    "    for region in regions:\n",
    "        area = len(region)\n",
    "        perimeter = sum(region.values())\n",
    "        price += area * perimeter\n",
    "        print(f\"- Area: {area}, Perimter: {perimeter}\")\n",
    "\n",
    "print(price)"
   ]
  }
 ],
 "metadata": {
  "kernelspec": {
   "display_name": "Python 3",
   "language": "python",
   "name": "python3"
  },
  "language_info": {
   "codemirror_mode": {
    "name": "ipython",
    "version": 3
   },
   "file_extension": ".py",
   "mimetype": "text/x-python",
   "name": "python",
   "nbconvert_exporter": "python",
   "pygments_lexer": "ipython3",
   "version": "3.13.1"
  }
 },
 "nbformat": 4,
 "nbformat_minor": 2
}
