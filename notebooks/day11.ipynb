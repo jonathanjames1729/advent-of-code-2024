{
 "cells": [
  {
   "cell_type": "code",
   "execution_count": null,
   "metadata": {},
   "outputs": [],
   "source": [
    "import advent_of_code\n",
    "\n",
    "def blink(stones):\n",
    "    result = []\n",
    "    for stone in stones:\n",
    "        if stone == 0:\n",
    "            result.append(1)\n",
    "        else:\n",
    "            stone_str = str(stone)\n",
    "            stone_length = len(stone_str)\n",
    "            if stone_length % 2 == 0:\n",
    "                result.append(int(stone_str[:stone_length//2]))\n",
    "                result.append(int(stone_str[stone_length//2:]))\n",
    "            else:\n",
    "                result.append(stone * 2024)\n",
    "    return result\n",
    "\n",
    "\n",
    "for line in advent_of_code.load_data('day11.txt'):\n",
    "    stones = map(int, line.split())\n",
    "    for _ in range(25):\n",
    "        stones = blink(stones)\n",
    "    print(len(stones))"
   ]
  },
  {
   "cell_type": "code",
   "execution_count": null,
   "metadata": {},
   "outputs": [],
   "source": [
    "def blink(stones):\n",
    "    result = {}\n",
    "    for stone, count in stones.items():\n",
    "        if stone == 0:\n",
    "            result[1] = result.get(1, 0) + count\n",
    "        else:\n",
    "            stone_str = str(stone)\n",
    "            stone_length = len(stone_str)\n",
    "            if stone_length % 2 == 0:\n",
    "                stone1 = int(stone_str[:stone_length//2])\n",
    "                result[stone1] = result.get(stone1, 0) + count\n",
    "                stone2 = int(stone_str[stone_length//2:])\n",
    "                result[stone2] = result.get(stone2, 0) + count\n",
    "            else:\n",
    "                result[stone * 2024] = result.get(stone * 2024, 0) + count\n",
    "    return result\n",
    "\n",
    "for line in advent_of_code.load_data('day11.txt'):\n",
    "    stones = {}\n",
    "    for stone in map(int, line.split()):\n",
    "        stones[stone] = stones.get(stone, 0) + 1\n",
    "    for _ in range(25):\n",
    "        stones = blink(stones)\n",
    "    print(sum(stones.values()))\n",
    "    for _ in range(50):\n",
    "        stones = blink(stones)\n",
    "    print(sum(stones.values()))"
   ]
  }
 ],
 "metadata": {
  "kernelspec": {
   "display_name": "Python 3",
   "language": "python",
   "name": "python3"
  },
  "language_info": {
   "codemirror_mode": {
    "name": "ipython",
    "version": 3
   },
   "file_extension": ".py",
   "mimetype": "text/x-python",
   "name": "python",
   "nbconvert_exporter": "python",
   "pygments_lexer": "ipython3",
   "version": "3.13.1"
  }
 },
 "nbformat": 4,
 "nbformat_minor": 2
}
