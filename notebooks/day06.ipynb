{
 "cells": [
  {
   "cell_type": "code",
   "execution_count": null,
   "metadata": {},
   "outputs": [],
   "source": [
    "import advent_of_code\n",
    "\n",
    "start = None\n",
    "obstacles = set()\n",
    "\n",
    "y = 0\n",
    "for line in advent_of_code.load_data('day06.txt'):\n",
    "    x = 0\n",
    "    for c in line:\n",
    "        if c == '#':\n",
    "            obstacles.add((x, y))\n",
    "        elif c == '^':\n",
    "            start = (x, y)\n",
    "        x += 1\n",
    "    y += 1\n",
    "\n",
    "width = x\n",
    "height = y\n",
    "directions = ((0, -1), (1, 0), (0, 1), (-1, 0))\n",
    "\n",
    "index = 0\n",
    "guard = start\n",
    "visited = set()\n",
    "inside = True\n",
    "while inside:\n",
    "    visited.add(guard)\n",
    "    x_inc, y_inc = directions[index]\n",
    "    x, y = guard\n",
    "    x += x_inc\n",
    "    y += y_inc\n",
    "    if x < 0 or x >= width or y < 0 or y >= height:\n",
    "        inside = False\n",
    "    elif (x, y) in obstacles:\n",
    "        index = (index + 1) % 4\n",
    "    else:\n",
    "        guard = (x, y)\n",
    "\n",
    "len(visited)"
   ]
  },
  {
   "cell_type": "code",
   "execution_count": null,
   "metadata": {},
   "outputs": [],
   "source": [
    "options = set()\n",
    "for obstacle in visited:\n",
    "    if obstacle == start:\n",
    "        continue\n",
    "    index = 0\n",
    "    guard = start\n",
    "    path = set()\n",
    "    inside = True\n",
    "    while inside:\n",
    "        x, y = guard\n",
    "        entry = (x, y, index)\n",
    "        if entry in path:\n",
    "            options.add(obstacle)\n",
    "            break\n",
    "        path.add(entry)\n",
    "        x_inc, y_inc = directions[index]\n",
    "        x += x_inc\n",
    "        y += y_inc\n",
    "        if x < 0 or x >= width or y < 0 or y >= height:\n",
    "            inside = False\n",
    "        elif (x, y) in obstacles or obstacle == (x, y):\n",
    "            index = (index + 1) % 4\n",
    "        else:\n",
    "            guard = (x, y)\n",
    "\n",
    "len(options)"
   ]
  }
 ],
 "metadata": {
  "kernelspec": {
   "display_name": "Python 3",
   "language": "python",
   "name": "python3"
  },
  "language_info": {
   "codemirror_mode": {
    "name": "ipython",
    "version": 3
   },
   "file_extension": ".py",
   "mimetype": "text/x-python",
   "name": "python",
   "nbconvert_exporter": "python",
   "pygments_lexer": "ipython3",
   "version": "3.13.1"
  }
 },
 "nbformat": 4,
 "nbformat_minor": 2
}
