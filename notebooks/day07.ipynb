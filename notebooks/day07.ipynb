{
 "cells": [
  {
   "cell_type": "code",
   "execution_count": null,
   "metadata": {},
   "outputs": [],
   "source": [
    "import advent_of_code\n",
    "\n",
    "equations = []\n",
    "\n",
    "for line in advent_of_code.load_data('day07.txt'):\n",
    "    operands = line.split()\n",
    "    result = int(operands.pop(0)[0:-1])\n",
    "    equations.append((result, [int(operand) for operand in operands]))\n",
    "\n",
    "sum = 0\n",
    "failed = []\n",
    "for result, operands in equations:\n",
    "    for options in range(2 ** (len(operands) - 1)):\n",
    "        mask = 1\n",
    "        trial = operands[0]\n",
    "        for operand in operands[1:]:\n",
    "            if options & mask:\n",
    "                trial *= operand\n",
    "            else:\n",
    "                trial += operand\n",
    "            mask *= 2\n",
    "        if trial == result:\n",
    "            sum += result\n",
    "            break\n",
    "    else:\n",
    "        failed.append((result, operands))\n",
    "\n",
    "sum"
   ]
  },
  {
   "cell_type": "code",
   "execution_count": null,
   "metadata": {},
   "outputs": [],
   "source": [
    "sum2 = sum\n",
    "for result, operands in failed:\n",
    "    for options in range(3 ** (len(operands) - 1)):\n",
    "        trial = operands[0]\n",
    "        for operand in operands[1:]:\n",
    "            option = options % 3\n",
    "            options //= 3\n",
    "            if option == 0:\n",
    "                trial = int(str(trial) + str(operand))\n",
    "            elif option == 1:\n",
    "                trial *= operand\n",
    "            else:\n",
    "                trial += operand\n",
    "        if trial == result:\n",
    "            sum2 += result\n",
    "            break\n",
    "\n",
    "sum2"
   ]
  }
 ],
 "metadata": {
  "kernelspec": {
   "display_name": "Python 3",
   "language": "python",
   "name": "python3"
  },
  "language_info": {
   "codemirror_mode": {
    "name": "ipython",
    "version": 3
   },
   "file_extension": ".py",
   "mimetype": "text/x-python",
   "name": "python",
   "nbconvert_exporter": "python",
   "pygments_lexer": "ipython3",
   "version": "3.13.1"
  }
 },
 "nbformat": 4,
 "nbformat_minor": 2
}
