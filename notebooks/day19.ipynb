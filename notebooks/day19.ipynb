{
 "cells": [
  {
   "cell_type": "code",
   "execution_count": 13,
   "metadata": {},
   "outputs": [],
   "source": [
    "import re\n",
    "\n",
    "import advent_of_code\n",
    "\n",
    "SPLIT_RE = re.compile(r'\\s*,\\s*')"
   ]
  },
  {
   "cell_type": "code",
   "execution_count": null,
   "metadata": {},
   "outputs": [],
   "source": [
    "towels = None\n",
    "designs = []\n",
    "for line in advent_of_code.load_data('day19.txt'):\n",
    "    if line:\n",
    "        if towels is None:\n",
    "            towels = {}\n",
    "            for towel in SPLIT_RE.split(line):\n",
    "                length = len(towel)\n",
    "                if length not in towels:\n",
    "                    towels[length] = set()\n",
    "                towels[length].add(towel)\n",
    "        else:\n",
    "            designs.append(line)\n",
    "\n",
    "max_length = max(towels.keys())\n",
    "\n",
    "def f(design, towels, max_length):\n",
    "    length = len(design)\n",
    "    for i in range(min(max_length, length), 0, -1):\n",
    "        if design[-i:] in towels[i]:\n",
    "            if i == length:\n",
    "                return True\n",
    "            if f(design[:-i], towels, max_length):\n",
    "                return True\n",
    "    return False\n",
    "\n",
    "count = 0\n",
    "for design in designs:\n",
    "    if f(design, towels, max_length):\n",
    "        count += 1\n",
    "print(count)"
   ]
  },
  {
   "cell_type": "code",
   "execution_count": null,
   "metadata": {},
   "outputs": [],
   "source": [
    "def g(design, towels, max_length, results):\n",
    "    if design in results:\n",
    "        return results[design]\n",
    "\n",
    "    length = len(design)\n",
    "    result = 0\n",
    "    for i in range(min(max_length, length), 0, -1):\n",
    "        if design[-i:] in towels[i]:\n",
    "            if i == length:\n",
    "                result += 1\n",
    "            else:\n",
    "                result += g(design[:-i], towels, max_length, results)\n",
    "    results[design] = result\n",
    "    return result\n",
    "\n",
    "count = 0\n",
    "for design in designs:\n",
    "    if f(design, towels, max_length):\n",
    "        results = {}\n",
    "        count += g(design, towels, max_length, results)\n",
    "print(count)"
   ]
  }
 ],
 "metadata": {
  "kernelspec": {
   "display_name": "Python 3",
   "language": "python",
   "name": "python3"
  },
  "language_info": {
   "codemirror_mode": {
    "name": "ipython",
    "version": 3
   },
   "file_extension": ".py",
   "mimetype": "text/x-python",
   "name": "python",
   "nbconvert_exporter": "python",
   "pygments_lexer": "ipython3",
   "version": "3.13.1"
  }
 },
 "nbformat": 4,
 "nbformat_minor": 2
}
