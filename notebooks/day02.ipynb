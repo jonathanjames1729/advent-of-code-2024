{
 "cells": [
  {
   "cell_type": "code",
   "execution_count": null,
   "metadata": {},
   "outputs": [],
   "source": [
    "import itertools\n",
    "\n",
    "import advent_of_code\n",
    "\n",
    "reports = []\n",
    "\n",
    "for line in advent_of_code.load_data('day02.txt'):\n",
    "    reports.append([int(level) for level in line.split()])\n",
    "\n",
    "def is_safe(report):\n",
    "    direction = 0\n",
    "\n",
    "    for a, b in itertools.pairwise(report):\n",
    "        difference = a - b\n",
    "        if difference == 0 or abs(difference) > 3:\n",
    "            return False\n",
    "        if difference > 0 and direction < 0:\n",
    "            return False\n",
    "        if difference < 0 and direction > 0:\n",
    "            return False\n",
    "        direction = difference\n",
    "\n",
    "    return True\n",
    "\n",
    "len(list(filter(is_safe, reports)))"
   ]
  },
  {
   "cell_type": "code",
   "execution_count": null,
   "metadata": {},
   "outputs": [],
   "source": [
    "def omit(report, omitted):\n",
    "    for index, level in enumerate(report):\n",
    "        if index != omitted:\n",
    "            yield level\n",
    "\n",
    "def is_safe_alt(report):\n",
    "    if is_safe(report):\n",
    "        return True\n",
    "    for index in range(len(report)):\n",
    "        if is_safe(omit(report, index)):\n",
    "            return True\n",
    "    return False\n",
    "\n",
    "len(list(filter(is_safe_alt, reports)))"
   ]
  }
 ],
 "metadata": {
  "kernelspec": {
   "display_name": "Python 3",
   "language": "python",
   "name": "python3"
  },
  "language_info": {
   "codemirror_mode": {
    "name": "ipython",
    "version": 3
   },
   "file_extension": ".py",
   "mimetype": "text/x-python",
   "name": "python",
   "nbconvert_exporter": "python",
   "pygments_lexer": "ipython3",
   "version": "3.13.1"
  }
 },
 "nbformat": 4,
 "nbformat_minor": 2
}
