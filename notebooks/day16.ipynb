{
 "cells": [
  {
   "cell_type": "code",
   "execution_count": null,
   "metadata": {},
   "outputs": [],
   "source": [
    "import advent_of_code\n",
    "\n",
    "DIRECTIONS = [(1, 0), (0, 1), (-1, 0), (0, -1)]\n",
    "\n",
    "start = None\n",
    "end = None\n",
    "walls = set()\n",
    "\n",
    "for y, line in enumerate(advent_of_code.load_data('day16.txt')):\n",
    "    for x, space in enumerate(line):\n",
    "        if space == 'S':\n",
    "            start = (x, y)\n",
    "        elif space == 'E':\n",
    "            end = (x, y)\n",
    "        elif space == '#':\n",
    "            walls.add((x, y))\n",
    "\n",
    "positions = [(start, 0, 0)]\n",
    "scores = {}\n",
    "while positions:\n",
    "    next_positions = []\n",
    "    for position, direction, score in positions:\n",
    "        if position in scores and score >= scores[position]:\n",
    "            continue\n",
    "        scores[position] = score\n",
    "        if position == end:\n",
    "            continue\n",
    "        x, y = position\n",
    "        for i in (0, 1, 3):\n",
    "            next_direction = (direction + i) % 4\n",
    "            dscore = 1 if i == 0 else 1001 \n",
    "            dx, dy = DIRECTIONS[next_direction]\n",
    "            next_position = (x + dx, y + dy)\n",
    "            if next_position not in walls:\n",
    "                next_positions.append((next_position, next_direction, score + dscore))\n",
    "    positions = next_positions\n",
    "\n",
    "print(scores[end])"
   ]
  }
 ],
 "metadata": {
  "kernelspec": {
   "display_name": "Python 3",
   "language": "python",
   "name": "python3"
  },
  "language_info": {
   "codemirror_mode": {
    "name": "ipython",
    "version": 3
   },
   "file_extension": ".py",
   "mimetype": "text/x-python",
   "name": "python",
   "nbconvert_exporter": "python",
   "pygments_lexer": "ipython3",
   "version": "3.13.1"
  }
 },
 "nbformat": 4,
 "nbformat_minor": 2
}
