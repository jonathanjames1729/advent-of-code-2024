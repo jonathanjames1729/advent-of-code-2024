{
 "cells": [
  {
   "cell_type": "code",
   "execution_count": null,
   "metadata": {},
   "outputs": [],
   "source": [
    "import re\n",
    "\n",
    "import advent_of_code\n",
    "\n",
    "VALUE_RE = re.compile(r'([xy][0-9][0-9]):\\s+([01])')\n",
    "GATE_RE = re.compile(r'([a-z][a-z0-9][a-z0-9])\\s+(AND|OR|XOR)\\s+([a-z][a-z0-9][a-z0-9])\\s+->\\s+([a-z][a-z0-9][a-z0-9])')\n",
    "\n",
    "values = {}\n",
    "gates = None\n",
    "for line in advent_of_code.load_data('day24.txt', test=True):\n",
    "    if gates is None:\n",
    "        if line:\n",
    "            match = VALUE_RE.fullmatch(line)\n",
    "            if match:\n",
    "                values[match[1]] = int(match[2])\n",
    "        else:\n",
    "            gates = {}\n",
    "    else:\n",
    "        match = GATE_RE.fullmatch(line)\n",
    "        if match:\n",
    "            gates[match[4]] = (match[1], match[2], match[3])\n",
    "\n",
    "def f(node, values, gates):\n",
    "    if node in values:\n",
    "        return values[node]\n",
    "\n",
    "    (operand1, operator, operand2) = gates[node]\n",
    "    value1 = f(operand1, values, gates)\n",
    "    value2 = f(operand2, values, gates)\n",
    "    if operator == 'AND':\n",
    "        result = value1 & value2\n",
    "    elif operator == 'OR':\n",
    "        result = value1 | value2\n",
    "    else:\n",
    "        result = value1 ^ value2\n",
    "    values[node] = result\n",
    "    return result\n",
    "\n",
    "result = 0\n",
    "for node in sorted(filter(lambda key: key[0] == 'z', gates.keys())):\n",
    "    result |= f(node, values, gates) << int(node[1:])\n",
    "\n",
    "print(result)"
   ]
  }
 ],
 "metadata": {
  "kernelspec": {
   "display_name": "Python 3",
   "language": "python",
   "name": "python3"
  },
  "language_info": {
   "codemirror_mode": {
    "name": "ipython",
    "version": 3
   },
   "file_extension": ".py",
   "mimetype": "text/x-python",
   "name": "python",
   "nbconvert_exporter": "python",
   "pygments_lexer": "ipython3",
   "version": "3.13.1"
  }
 },
 "nbformat": 4,
 "nbformat_minor": 2
}
