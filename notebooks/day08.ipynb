{
 "cells": [
  {
   "cell_type": "code",
   "execution_count": 11,
   "metadata": {},
   "outputs": [],
   "source": [
    "import advent_of_code\n",
    "\n",
    "nodes = {}\n",
    "y = 0\n",
    "for line in advent_of_code.load_data('day08.txt'):\n",
    "    x = 0\n",
    "    for node in list(line):\n",
    "        if node != '.':\n",
    "            if node not in nodes:\n",
    "                nodes[node] = []\n",
    "            nodes[node].append((x, y))\n",
    "        x += 1\n",
    "    y += 1\n",
    "\n",
    "width = x\n",
    "height = y"
   ]
  },
  {
   "cell_type": "code",
   "execution_count": null,
   "metadata": {},
   "outputs": [],
   "source": [
    "antinodes = set()\n",
    "\n",
    "for node, locations in nodes.items():\n",
    "    for x1, y1 in locations:\n",
    "        for x2, y2 in locations:\n",
    "            if x1 == x2 and y1 == y2:\n",
    "                continue\n",
    "            x = 2 * x1 - x2\n",
    "            y = 2 * y1 - y2\n",
    "            if x < 0 or x >= width or y < 0 or y >= height:\n",
    "                continue\n",
    "            antinodes.add((x, y))\n",
    "            \n",
    "len(antinodes)"
   ]
  },
  {
   "cell_type": "code",
   "execution_count": null,
   "metadata": {},
   "outputs": [],
   "source": [
    "antinodes = set()\n",
    "\n",
    "for node, locations in nodes.items():\n",
    "    for x1, y1 in locations:\n",
    "        for x2, y2 in locations:\n",
    "            if x1 == x2 and y1 == y2:\n",
    "                continue\n",
    "            x_diff = x1 - x2\n",
    "            y_diff = y1 - y2\n",
    "            x = x1\n",
    "            y = y1\n",
    "            while x >=0 and x < width and y >= 0 and y < height:\n",
    "                antinodes.add((x, y))\n",
    "                x += x_diff\n",
    "                y += y_diff\n",
    "            \n",
    "len(antinodes)"
   ]
  }
 ],
 "metadata": {
  "kernelspec": {
   "display_name": "Python 3",
   "language": "python",
   "name": "python3"
  },
  "language_info": {
   "codemirror_mode": {
    "name": "ipython",
    "version": 3
   },
   "file_extension": ".py",
   "mimetype": "text/x-python",
   "name": "python",
   "nbconvert_exporter": "python",
   "pygments_lexer": "ipython3",
   "version": "3.13.1"
  }
 },
 "nbformat": 4,
 "nbformat_minor": 2
}
