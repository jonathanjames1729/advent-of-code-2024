{
 "cells": [
  {
   "cell_type": "code",
   "execution_count": null,
   "metadata": {},
   "outputs": [],
   "source": [
    "import itertools\n",
    "import re\n",
    "\n",
    "import advent_of_code\n",
    "\n",
    "CONNECTION_RE = re.compile(r'^([a-z]{2})-([a-z]{2})$')\n",
    "\n",
    "connections = {}\n",
    "\n",
    "for line in advent_of_code.load_data('day23.txt'):\n",
    "    match = CONNECTION_RE.fullmatch(line)\n",
    "    if match:\n",
    "        for i in (1, 2):\n",
    "            if match[i] not in connections:\n",
    "                connections[match[i]] = set()\n",
    "            connections[match[i]].add(match[3 - i])\n",
    "\n",
    "triples = set()\n",
    "for node, connected in connections.items():\n",
    "    if node[0] == 't':\n",
    "        for one, two in itertools.permutations(connected, 2):\n",
    "            if one in connections[two]:\n",
    "                triples.add(frozenset([node, one, two]))\n",
    "\n",
    "print(len(triples))"
   ]
  }
 ],
 "metadata": {
  "kernelspec": {
   "display_name": "Python 3",
   "language": "python",
   "name": "python3"
  },
  "language_info": {
   "codemirror_mode": {
    "name": "ipython",
    "version": 3
   },
   "file_extension": ".py",
   "mimetype": "text/x-python",
   "name": "python",
   "nbconvert_exporter": "python",
   "pygments_lexer": "ipython3",
   "version": "3.13.1"
  }
 },
 "nbformat": 4,
 "nbformat_minor": 2
}
