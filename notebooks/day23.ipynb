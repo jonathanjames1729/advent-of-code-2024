{
 "cells": [
  {
   "cell_type": "code",
   "execution_count": null,
   "metadata": {},
   "outputs": [],
   "source": [
    "import itertools\n",
    "import re\n",
    "\n",
    "import advent_of_code\n",
    "\n",
    "CONNECTION_RE = re.compile(r'^([a-z]{2})-([a-z]{2})$')\n",
    "\n",
    "connections = {}\n",
    "\n",
    "for line in advent_of_code.load_data('day23.txt'):\n",
    "    match = CONNECTION_RE.fullmatch(line)\n",
    "    if match:\n",
    "        for i in (1, 2):\n",
    "            if match[i] not in connections:\n",
    "                connections[match[i]] = set()\n",
    "            connections[match[i]].add(match[3 - i])\n",
    "\n",
    "triples = set()\n",
    "for node, connected in connections.items():\n",
    "    if node[0] == 't':\n",
    "        for one, two in itertools.permutations(connected, 2):\n",
    "            if one in connections[two]:\n",
    "                triples.add(frozenset([node, one, two]))\n",
    "\n",
    "print(len(triples))"
   ]
  },
  {
   "cell_type": "code",
   "execution_count": null,
   "metadata": {},
   "outputs": [],
   "source": [
    "def bit_count(n):\n",
    "    result = 0\n",
    "    while n:\n",
    "        n &= n - 1\n",
    "        result += 1\n",
    "    return result\n",
    "\n",
    "max_size = 3\n",
    "max_set = None\n",
    "for node, connected in connections.items():\n",
    "    for n in range(2 ** len(connected)):\n",
    "        if bit_count(n) >= max_size:\n",
    "            trial = set()\n",
    "            trial.add(node)\n",
    "            for index, other in enumerate(sorted(connected)):\n",
    "                if n & (2 ** index):\n",
    "                    trial.add(other)\n",
    "            trial_size = len(trial)\n",
    "            for trial_node in trial:\n",
    "                if len(connections[trial_node] & trial) != (trial_size - 1):\n",
    "                    break\n",
    "            else:\n",
    "                max_size = trial_size\n",
    "                max_set = trial\n",
    "\n",
    "print(','.join(sorted(max_set)))"
   ]
  }
 ],
 "metadata": {
  "kernelspec": {
   "display_name": "Python 3",
   "language": "python",
   "name": "python3"
  },
  "language_info": {
   "codemirror_mode": {
    "name": "ipython",
    "version": 3
   },
   "file_extension": ".py",
   "mimetype": "text/x-python",
   "name": "python",
   "nbconvert_exporter": "python",
   "pygments_lexer": "ipython3",
   "version": "3.13.1"
  }
 },
 "nbformat": 4,
 "nbformat_minor": 2
}
