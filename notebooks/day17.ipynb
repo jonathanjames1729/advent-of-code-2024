{
 "cells": [
  {
   "cell_type": "code",
   "execution_count": 58,
   "metadata": {},
   "outputs": [
    {
     "name": "stdout",
     "output_type": "stream",
     "text": [
      "7,5,4,3,4,5,3,4,6\n"
     ]
    }
   ],
   "source": [
    "import re\n",
    "\n",
    "import advent_of_code\n",
    "\n",
    "REGISTER_RE = re.compile(r'^Register\\s+(?P<name>[A-C]):\\s+(?P<value>[0-9]+)$')\n",
    "PROGRAM_RE = re.compile(r'^Program:\\s+(?P<program>[0-7,]+)$')\n",
    "\n",
    "state = {\n",
    "    'instruction_pointer': 0,\n",
    "    'outputs': []\n",
    "}\n",
    "for line in advent_of_code.load_data('day17.txt'):\n",
    "    if not line:\n",
    "        continue\n",
    "\n",
    "    match = REGISTER_RE.fullmatch(line)\n",
    "    if match:\n",
    "        state[match['name']] = int(match['value'])\n",
    "        continue\n",
    "\n",
    "    match = PROGRAM_RE.fullmatch(line)\n",
    "    if match:\n",
    "        state['program'] = tuple(map(int, match['program'].split(',')))\n",
    "\n",
    "def combo_operand(operand, state):\n",
    "    return (0, 1, 2, 3, state['A'], state['B'], state['C'])[operand]\n",
    "\n",
    "def adv(operand, state):\n",
    "    try:\n",
    "        state['A'] = state['A'] // 2 ** combo_operand(operand, state)\n",
    "    except IndexError:\n",
    "        return False\n",
    "\n",
    "    state['instruction_pointer'] += 2\n",
    "    return True\n",
    "\n",
    "def bxl(operand, state):\n",
    "    state['B'] = state['B'] ^ operand\n",
    "    state['instruction_pointer'] += 2\n",
    "    return True\n",
    "\n",
    "def bst(operand, state):\n",
    "    try:\n",
    "        state['B'] = combo_operand(operand, state) % 8\n",
    "    except IndexError:\n",
    "        return False\n",
    "    \n",
    "    state['instruction_pointer'] += 2\n",
    "    return True\n",
    "\n",
    "def jnz(operand, state):\n",
    "    if state['A'] == 0:\n",
    "        state['instruction_pointer'] += 2\n",
    "    else:\n",
    "        state['instruction_pointer'] = operand\n",
    "    return True\n",
    "\n",
    "def bxc(_operand, state):\n",
    "    state['B'] = state['B'] ^ state['C']\n",
    "    state['instruction_pointer'] += 2\n",
    "    return True\n",
    "\n",
    "def out(operand, state):\n",
    "    try:\n",
    "        state['outputs'].append(combo_operand(operand, state) % 8)\n",
    "    except IndexError:\n",
    "        return False\n",
    "\n",
    "    state['instruction_pointer'] += 2\n",
    "    return True\n",
    "\n",
    "def bdv(operand, state):\n",
    "    try:\n",
    "        state['B'] = state['A'] // 2 ** combo_operand(operand, state)\n",
    "    except IndexError:\n",
    "        return False\n",
    "\n",
    "    state['instruction_pointer'] += 2\n",
    "    return True\n",
    "\n",
    "def cdv(operand, state):\n",
    "    try:\n",
    "        state['C'] = state['A'] // 2 ** combo_operand(operand, state)\n",
    "    except IndexError:\n",
    "        return False\n",
    "\n",
    "    state['instruction_pointer'] += 2\n",
    "    return True\n",
    "\n",
    "def run_instruction(opcode, operand, state):\n",
    "    return (adv, bxl, bst, jnz, bxc, out, bdv, cdv)[opcode](operand, state)\n",
    "\n",
    "def run(state):\n",
    "    while True:\n",
    "        instruction_pointer = state['instruction_pointer']\n",
    "        try:\n",
    "            opcode = state['program'][instruction_pointer]\n",
    "            operand = state['program'][instruction_pointer + 1]\n",
    "        except IndexError:\n",
    "            return True\n",
    "        if not run_instruction(opcode, operand, state):\n",
    "            return False\n",
    "\n",
    "saved = {'A': state['A'], 'B': state['B'], 'C': state['C'], 'instruction_pointer': 0}\n",
    "run(state)\n",
    "print(','.join(map(str, state['outputs'])))"
   ]
  },
  {
   "cell_type": "markdown",
   "metadata": {},
   "source": [
    "1. 2,4 bst A -> B = A % 8\n",
    "2. 1,1 bxl 1 -> B = B ^ 1\n",
    "3. 7,5 cdv B -> C = A / 2**B\n",
    "4. 1,5 bxl 5 -> B = B ^ 5\n",
    "5. 4,3 bxc   -> B = B ^ C\n",
    "6. 5,5 out B\n",
    "7. 0,3 adv 3 -> A = A / 8\n",
    "8. 3,0 jnz 0\n",
    "\n",
    "- The program is a loop. The last instruction jumps back to the first instruction unless register A contains 0.\n",
    "- The only instruction which sets the value in register A is the seventh which divides by 8 (shifts three bits right)\n",
    "- The only output instruction is the sixth\n",
    "- The values in registers B and C going into each iteration don't matter as they are not used within the loop (B is\n",
    "initialised from A in the first instruction and C is initialised from A and B in the third instruction)\n",
    "- The program is 16 digits long so to output itself, it must loop 16 times. This means the initial value of A must be\n",
    "longer than 21 bits but no longer than 24\n",
    "- The value in register A for the last iteration of the loop is a most three bits. The value output is the same as the\n",
    "program being run with that value as the input of A\n",
    "\n",
    "Hence we can work backwards through the desired output to figure out what values we need in register A"
   ]
  },
  {
   "cell_type": "code",
   "execution_count": 59,
   "metadata": {},
   "outputs": [
    {
     "name": "stdout",
     "output_type": "stream",
     "text": [
      "0 4\n",
      "1 4\n",
      "2 6\n",
      "3 7\n",
      "4 0\n",
      "5 1\n",
      "6 2\n",
      "7 3\n"
     ]
    }
   ],
   "source": [
    "def trial(state, saved, index):\n",
    "    state.update(saved)\n",
    "    state['A'] = index\n",
    "    state['outputs'] = []\n",
    "    if run(state):\n",
    "        print(index, ','.join(map(str, state['outputs'])))\n",
    "\n",
    "# Want an output of 0\n",
    "for i in range(8):\n",
    "    trial(state, saved, i)"
   ]
  },
  {
   "cell_type": "code",
   "execution_count": 60,
   "metadata": {},
   "outputs": [
    {
     "name": "stdout",
     "output_type": "stream",
     "text": [
      "32 4,0\n",
      "33 4,0\n",
      "34 2,0\n",
      "35 7,0\n",
      "36 1,0\n",
      "37 3,0\n",
      "38 2,0\n",
      "39 3,0\n"
     ]
    }
   ],
   "source": [
    "# Only A=4 results in an output of 0\n",
    "\n",
    "# Want an output of 3,0\n",
    "for i in range(8):\n",
    "    trial(state, saved, i + 4 * 8)"
   ]
  },
  {
   "cell_type": "code",
   "execution_count": 61,
   "metadata": {},
   "outputs": [
    {
     "name": "stdout",
     "output_type": "stream",
     "text": [
      "296 0,3,0\n",
      "297 4,3,0\n",
      "298 3,3,0\n",
      "299 5,3,0\n",
      "300 1,3,0\n",
      "301 3,3,0\n",
      "302 0,3,0\n",
      "303 7,3,0\n",
      "312 0,3,0\n",
      "313 4,3,0\n",
      "314 1,3,0\n",
      "315 1,3,0\n",
      "316 1,3,0\n",
      "317 2,3,0\n",
      "318 0,3,0\n",
      "319 7,3,0\n"
     ]
    }
   ],
   "source": [
    "# Only A=37 and A=39 result in an output of 3,0\n",
    "\n",
    "# Want an output of 3,3,0\n",
    "for i in range(8):\n",
    "    trial(state, saved, i + 37 * 8)\n",
    "for i in range(8):\n",
    "    trial(state, saved, i + 39 * 8)"
   ]
  },
  {
   "cell_type": "code",
   "execution_count": 62,
   "metadata": {},
   "outputs": [
    {
     "name": "stdout",
     "output_type": "stream",
     "text": [
      "2384 4,3,3,0\n",
      "2385 4,3,3,0\n",
      "2386 4,3,3,0\n",
      "2387 3,3,3,0\n",
      "2388 2,3,3,0\n",
      "2389 4,3,3,0\n",
      "2390 0,3,3,0\n",
      "2391 6,3,3,0\n",
      "2408 0,3,3,0\n",
      "2409 4,3,3,0\n",
      "2410 3,3,3,0\n",
      "2411 5,3,3,0\n",
      "2412 3,3,3,0\n",
      "2413 7,3,3,0\n",
      "2414 0,3,3,0\n",
      "2415 6,3,3,0\n"
     ]
    }
   ],
   "source": [
    "# Only A=298 and A=301 result in an output of 3,3,0\n",
    "\n",
    "# Want an output of 0,3,3,0\n",
    "for i in range(8):\n",
    "    trial(state, saved, i + 298 * 8)\n",
    "for i in range(8):\n",
    "    trial(state, saved, i + 301 * 8)"
   ]
  },
  {
   "cell_type": "code",
   "execution_count": 63,
   "metadata": {},
   "outputs": [
    {
     "name": "stdout",
     "output_type": "stream",
     "text": [
      "19120 4,0,3,3,0\n",
      "19121 4,0,3,3,0\n",
      "19122 0,0,3,3,0\n",
      "19123 3,0,3,3,0\n",
      "19124 5,0,3,3,0\n",
      "19125 2,0,3,3,0\n",
      "19126 7,0,3,3,0\n",
      "19127 1,0,3,3,0\n",
      "19264 4,0,3,3,0\n",
      "19265 4,0,3,3,0\n",
      "19266 6,0,3,3,0\n",
      "19267 7,0,3,3,0\n",
      "19268 2,0,3,3,0\n",
      "19269 5,0,3,3,0\n",
      "19270 4,0,3,3,0\n",
      "19271 6,0,3,3,0\n",
      "19312 4,0,3,3,0\n",
      "19313 4,0,3,3,0\n",
      "19314 0,0,3,3,0\n",
      "19315 3,0,3,3,0\n",
      "19316 3,0,3,3,0\n",
      "19317 6,0,3,3,0\n",
      "19318 4,0,3,3,0\n",
      "19319 6,0,3,3,0\n"
     ]
    }
   ],
   "source": [
    "# Only A=2390, A=2408 and A=2414 result in an output of 0,3,3,0\n",
    "\n",
    "# Want an output of 5,0,3,3,0\n",
    "for i in range(8):\n",
    "    trial(state, saved, i + 2390 * 8)\n",
    "for i in range(8):\n",
    "    trial(state, saved, i + 2408 * 8)\n",
    "for i in range(8):\n",
    "    trial(state, saved, i + 2414 * 8)"
   ]
  },
  {
   "cell_type": "code",
   "execution_count": 64,
   "metadata": {},
   "outputs": [
    {
     "name": "stdout",
     "output_type": "stream",
     "text": [
      "152992 4,5,0,3,3,0\n",
      "152993 4,5,0,3,3,0\n",
      "152994 2,5,0,3,3,0\n",
      "152995 7,5,0,3,3,0\n",
      "152996 5,5,0,3,3,0\n",
      "152997 3,5,0,3,3,0\n",
      "152998 1,5,0,3,3,0\n",
      "152999 5,5,0,3,3,0\n",
      "154152 0,5,0,3,3,0\n",
      "154153 4,5,0,3,3,0\n",
      "154154 3,5,0,3,3,0\n",
      "154155 5,5,0,3,3,0\n",
      "154156 1,5,0,3,3,0\n",
      "154157 3,5,0,3,3,0\n",
      "154158 6,5,0,3,3,0\n",
      "154159 3,5,0,3,3,0\n"
     ]
    }
   ],
   "source": [
    "# Only A=19124 and A=19269 result in an output of 5,0,3,3,0\n",
    "\n",
    "# Want an output of 5,5,0,3,3,0\n",
    "for i in range(8):\n",
    "    trial(state, saved, i + 19124 * 8)\n",
    "for i in range(8):\n",
    "    trial(state, saved, i + 19269 * 8)"
   ]
  },
  {
   "cell_type": "code",
   "execution_count": 65,
   "metadata": {},
   "outputs": [
    {
     "name": "stdout",
     "output_type": "stream",
     "text": [
      "1223968 4,5,5,0,3,3,0\n",
      "1223969 4,5,5,0,3,3,0\n",
      "1223970 2,5,5,0,3,3,0\n",
      "1223971 7,5,5,0,3,3,0\n",
      "1223972 1,5,5,0,3,3,0\n",
      "1223973 3,5,5,0,3,3,0\n",
      "1223974 0,5,5,0,3,3,0\n",
      "1223975 7,5,5,0,3,3,0\n",
      "1233240 0,5,5,0,3,3,0\n",
      "1233241 4,5,5,0,3,3,0\n",
      "1233242 5,5,5,0,3,3,0\n",
      "1233243 1,5,5,0,3,3,0\n",
      "1233244 2,5,5,0,3,3,0\n",
      "1233245 4,5,5,0,3,3,0\n",
      "1233246 0,5,5,0,3,3,0\n",
      "1233247 6,5,5,0,3,3,0\n"
     ]
    }
   ],
   "source": [
    "# Only A=152996 and A=154155 result in an output of 5,5,0,3,3,0\n",
    "\n",
    "# Want an output of 3,5,5,0,3,3,0\n",
    "for i in range(8):\n",
    "    trial(state, saved, i + 152996 * 8)\n",
    "for i in range(8):\n",
    "    trial(state, saved, i + 154155 * 8)"
   ]
  },
  {
   "cell_type": "code",
   "execution_count": 66,
   "metadata": {},
   "outputs": [
    {
     "name": "stdout",
     "output_type": "stream",
     "text": [
      "9791784 0,3,5,5,0,3,3,0\n",
      "9791785 4,3,5,5,0,3,3,0\n",
      "9791786 3,3,5,5,0,3,3,0\n",
      "9791787 5,3,5,5,0,3,3,0\n",
      "9791788 1,3,5,5,0,3,3,0\n",
      "9791789 3,3,5,5,0,3,3,0\n",
      "9791790 0,3,5,5,0,3,3,0\n",
      "9791791 7,3,5,5,0,3,3,0\n"
     ]
    }
   ],
   "source": [
    "# Only A=1223973 results in an output of 3,5,5,0,3,3,0\n",
    "\n",
    "# Want an output of 4,3,5,5,0,3,3,0\n",
    "for i in range(8):\n",
    "    trial(state, saved, i + 1223973 * 8)"
   ]
  },
  {
   "cell_type": "code",
   "execution_count": 67,
   "metadata": {},
   "outputs": [
    {
     "name": "stdout",
     "output_type": "stream",
     "text": [
      "78334280 0,4,3,5,5,0,3,3,0\n",
      "78334281 4,4,3,5,5,0,3,3,0\n",
      "78334282 7,4,3,5,5,0,3,3,0\n",
      "78334283 5,4,3,5,5,0,3,3,0\n",
      "78334284 2,4,3,5,5,0,3,3,0\n",
      "78334285 5,4,3,5,5,0,3,3,0\n",
      "78334286 0,4,3,5,5,0,3,3,0\n",
      "78334287 6,4,3,5,5,0,3,3,0\n"
     ]
    }
   ],
   "source": [
    "# Only A=9791785 results in an output of 4,3,5,5,0,3,3,0\n",
    "\n",
    "# Want an output of 5,4,3,5,5,0,3,3,0\n",
    "for i in range(8):\n",
    "    trial(state, saved, i + 9791785 * 8)"
   ]
  },
  {
   "cell_type": "code",
   "execution_count": 68,
   "metadata": {},
   "outputs": [
    {
     "name": "stdout",
     "output_type": "stream",
     "text": [
      "626674264 0,5,4,3,5,5,0,3,3,0\n",
      "626674265 4,5,4,3,5,5,0,3,3,0\n",
      "626674266 5,5,4,3,5,5,0,3,3,0\n",
      "626674267 1,5,4,3,5,5,0,3,3,0\n",
      "626674268 2,5,4,3,5,5,0,3,3,0\n",
      "626674269 4,5,4,3,5,5,0,3,3,0\n",
      "626674270 6,5,4,3,5,5,0,3,3,0\n",
      "626674271 2,5,4,3,5,5,0,3,3,0\n",
      "626674280 0,5,4,3,5,5,0,3,3,0\n",
      "626674281 4,5,4,3,5,5,0,3,3,0\n",
      "626674282 3,5,4,3,5,5,0,3,3,0\n",
      "626674283 5,5,4,3,5,5,0,3,3,0\n",
      "626674284 3,5,4,3,5,5,0,3,3,0\n",
      "626674285 7,5,4,3,5,5,0,3,3,0\n",
      "626674286 6,5,4,3,5,5,0,3,3,0\n",
      "626674287 2,5,4,3,5,5,0,3,3,0\n"
     ]
    }
   ],
   "source": [
    "# Only A=78334283 and A=78334285 result in an output of 5,4,3,5,5,0,3,3,0\n",
    "\n",
    "# Want an output of 1,5,4,3,5,5,0,3,3,0\n",
    "for i in range(8):\n",
    "    trial(state, saved, i + 78334283 * 8)\n",
    "for i in range(8):\n",
    "    trial(state, saved, i + 78334285 * 8)"
   ]
  },
  {
   "cell_type": "code",
   "execution_count": 69,
   "metadata": {},
   "outputs": [
    {
     "name": "stdout",
     "output_type": "stream",
     "text": [
      "5013394136 0,1,5,4,3,5,5,0,3,3,0\n",
      "5013394137 4,1,5,4,3,5,5,0,3,3,0\n",
      "5013394138 5,1,5,4,3,5,5,0,3,3,0\n",
      "5013394139 1,1,5,4,3,5,5,0,3,3,0\n",
      "5013394140 6,1,5,4,3,5,5,0,3,3,0\n",
      "5013394141 4,1,5,4,3,5,5,0,3,3,0\n",
      "5013394142 7,1,5,4,3,5,5,0,3,3,0\n",
      "5013394143 0,1,5,4,3,5,5,0,3,3,0\n"
     ]
    }
   ],
   "source": [
    "# Only A=626674267 results in an output of 1,5,4,3,5,5,0,3,3,0\n",
    "\n",
    "# Want an output of 5,1,5,4,3,5,5,0,3,3,0\n",
    "for i in range(8):\n",
    "    trial(state, saved, i + 626674267 * 8)"
   ]
  },
  {
   "cell_type": "code",
   "execution_count": 70,
   "metadata": {},
   "outputs": [
    {
     "name": "stdout",
     "output_type": "stream",
     "text": [
      "40107153104 4,5,1,5,4,3,5,5,0,3,3,0\n",
      "40107153105 4,5,1,5,4,3,5,5,0,3,3,0\n",
      "40107153106 4,5,1,5,4,3,5,5,0,3,3,0\n",
      "40107153107 3,5,1,5,4,3,5,5,0,3,3,0\n",
      "40107153108 6,5,1,5,4,3,5,5,0,3,3,0\n",
      "40107153109 4,5,1,5,4,3,5,5,0,3,3,0\n",
      "40107153110 7,5,1,5,4,3,5,5,0,3,3,0\n",
      "40107153111 0,5,1,5,4,3,5,5,0,3,3,0\n"
     ]
    }
   ],
   "source": [
    "# Only A=5013394138 results in an output of 5,1,5,4,3,5,5,0,3,3,0\n",
    "\n",
    "# Want an output of 7,5,1,5,4,3,5,5,0,3,3,0\n",
    "for i in range(8):\n",
    "    trial(state, saved, i + 5013394138 * 8)"
   ]
  },
  {
   "cell_type": "code",
   "execution_count": 71,
   "metadata": {},
   "outputs": [
    {
     "name": "stdout",
     "output_type": "stream",
     "text": [
      "320857224880 4,7,5,1,5,4,3,5,5,0,3,3,0\n",
      "320857224881 4,7,5,1,5,4,3,5,5,0,3,3,0\n",
      "320857224882 0,7,5,1,5,4,3,5,5,0,3,3,0\n",
      "320857224883 3,7,5,1,5,4,3,5,5,0,3,3,0\n",
      "320857224884 5,7,5,1,5,4,3,5,5,0,3,3,0\n",
      "320857224885 2,7,5,1,5,4,3,5,5,0,3,3,0\n",
      "320857224886 7,7,5,1,5,4,3,5,5,0,3,3,0\n",
      "320857224887 1,7,5,1,5,4,3,5,5,0,3,3,0\n"
     ]
    }
   ],
   "source": [
    "# Only A=40107153110 results in an output of 7,5,1,5,4,3,5,5,0,3,3,0\n",
    "\n",
    "# Want an output of 1,7,5,1,5,4,3,5,5,0,3,3,0\n",
    "for i in range(8):\n",
    "    trial(state, saved, i + 40107153110 * 8)"
   ]
  },
  {
   "cell_type": "code",
   "execution_count": 72,
   "metadata": {},
   "outputs": [
    {
     "name": "stdout",
     "output_type": "stream",
     "text": [
      "2566857799096 0,1,7,5,1,5,4,3,5,5,0,3,3,0\n",
      "2566857799097 4,1,7,5,1,5,4,3,5,5,0,3,3,0\n",
      "2566857799098 1,1,7,5,1,5,4,3,5,5,0,3,3,0\n",
      "2566857799099 1,1,7,5,1,5,4,3,5,5,0,3,3,0\n",
      "2566857799100 5,1,7,5,1,5,4,3,5,5,0,3,3,0\n",
      "2566857799101 2,1,7,5,1,5,4,3,5,5,0,3,3,0\n",
      "2566857799102 1,1,7,5,1,5,4,3,5,5,0,3,3,0\n",
      "2566857799103 5,1,7,5,1,5,4,3,5,5,0,3,3,0\n"
     ]
    }
   ],
   "source": [
    "# Only A=320857224887 results in an output of 1,7,5,1,5,4,3,5,5,0,3,3,0\n",
    "\n",
    "# Want an output of 1,1,7,5,1,5,4,3,5,5,0,3,3,0\n",
    "for i in range(8):\n",
    "    trial(state, saved, i + 320857224887 * 8)"
   ]
  },
  {
   "cell_type": "code",
   "execution_count": 73,
   "metadata": {},
   "outputs": [
    {
     "name": "stdout",
     "output_type": "stream",
     "text": [
      "20534862392784 4,1,1,7,5,1,5,4,3,5,5,0,3,3,0\n",
      "20534862392785 4,1,1,7,5,1,5,4,3,5,5,0,3,3,0\n",
      "20534862392786 4,1,1,7,5,1,5,4,3,5,5,0,3,3,0\n",
      "20534862392787 3,1,1,7,5,1,5,4,3,5,5,0,3,3,0\n",
      "20534862392788 6,1,1,7,5,1,5,4,3,5,5,0,3,3,0\n",
      "20534862392789 4,1,1,7,5,1,5,4,3,5,5,0,3,3,0\n",
      "20534862392790 1,1,1,7,5,1,5,4,3,5,5,0,3,3,0\n",
      "20534862392791 4,1,1,7,5,1,5,4,3,5,5,0,3,3,0\n",
      "20534862392792 0,1,1,7,5,1,5,4,3,5,5,0,3,3,0\n",
      "20534862392793 4,1,1,7,5,1,5,4,3,5,5,0,3,3,0\n",
      "20534862392794 5,1,1,7,5,1,5,4,3,5,5,0,3,3,0\n",
      "20534862392795 1,1,1,7,5,1,5,4,3,5,5,0,3,3,0\n",
      "20534862392796 6,1,1,7,5,1,5,4,3,5,5,0,3,3,0\n",
      "20534862392797 4,1,1,7,5,1,5,4,3,5,5,0,3,3,0\n",
      "20534862392798 1,1,1,7,5,1,5,4,3,5,5,0,3,3,0\n",
      "20534862392799 4,1,1,7,5,1,5,4,3,5,5,0,3,3,0\n",
      "20534862392816 4,1,1,7,5,1,5,4,3,5,5,0,3,3,0\n",
      "20534862392817 4,1,1,7,5,1,5,4,3,5,5,0,3,3,0\n",
      "20534862392818 0,1,1,7,5,1,5,4,3,5,5,0,3,3,0\n",
      "20534862392819 3,1,1,7,5,1,5,4,3,5,5,0,3,3,0\n",
      "20534862392820 7,1,1,7,5,1,5,4,3,5,5,0,3,3,0\n",
      "20534862392821 6,1,1,7,5,1,5,4,3,5,5,0,3,3,0\n",
      "20534862392822 1,1,1,7,5,1,5,4,3,5,5,0,3,3,0\n",
      "20534862392823 4,1,1,7,5,1,5,4,3,5,5,0,3,3,0\n"
     ]
    }
   ],
   "source": [
    "# Only A=2566857799098, A=2566857799099 and A=2566857799102 results in an output of 1,1,7,5,1,5,4,3,5,5,0,3,3,0\n",
    "\n",
    "# Want an output of 4,1,1,7,5,1,5,4,3,5,5,0,3,3,0\n",
    "for i in range(8):\n",
    "    trial(state, saved, i + 2566857799098 * 8)\n",
    "for i in range(8):\n",
    "    trial(state, saved, i + 2566857799099 * 8)\n",
    "for i in range(8):\n",
    "    trial(state, saved, i + 2566857799102 * 8)"
   ]
  },
  {
   "cell_type": "code",
   "execution_count": 74,
   "metadata": {},
   "outputs": [
    {
     "name": "stdout",
     "output_type": "stream",
     "text": [
      "164278899142272 4,4,1,1,7,5,1,5,4,3,5,5,0,3,3,0\n",
      "164278899142273 4,4,1,1,7,5,1,5,4,3,5,5,0,3,3,0\n",
      "164278899142274 6,4,1,1,7,5,1,5,4,3,5,5,0,3,3,0\n",
      "164278899142275 7,4,1,1,7,5,1,5,4,3,5,5,0,3,3,0\n",
      "164278899142276 4,4,1,1,7,5,1,5,4,3,5,5,0,3,3,0\n",
      "164278899142277 1,4,1,1,7,5,1,5,4,3,5,5,0,3,3,0\n",
      "164278899142278 7,4,1,1,7,5,1,5,4,3,5,5,0,3,3,0\n",
      "164278899142279 1,4,1,1,7,5,1,5,4,3,5,5,0,3,3,0\n",
      "164278899142280 0,4,1,1,7,5,1,5,4,3,5,5,0,3,3,0\n",
      "164278899142281 4,4,1,1,7,5,1,5,4,3,5,5,0,3,3,0\n",
      "164278899142282 7,4,1,1,7,5,1,5,4,3,5,5,0,3,3,0\n",
      "164278899142283 5,4,1,1,7,5,1,5,4,3,5,5,0,3,3,0\n",
      "164278899142284 4,4,1,1,7,5,1,5,4,3,5,5,0,3,3,0\n",
      "164278899142285 1,4,1,1,7,5,1,5,4,3,5,5,0,3,3,0\n",
      "164278899142286 7,4,1,1,7,5,1,5,4,3,5,5,0,3,3,0\n",
      "164278899142287 1,4,1,1,7,5,1,5,4,3,5,5,0,3,3,0\n",
      "164278899142288 4,4,1,1,7,5,1,5,4,3,5,5,0,3,3,0\n",
      "164278899142289 4,4,1,1,7,5,1,5,4,3,5,5,0,3,3,0\n",
      "164278899142290 4,4,1,1,7,5,1,5,4,3,5,5,0,3,3,0\n",
      "164278899142291 3,4,1,1,7,5,1,5,4,3,5,5,0,3,3,0\n",
      "164278899142292 4,4,1,1,7,5,1,5,4,3,5,5,0,3,3,0\n",
      "164278899142293 0,4,1,1,7,5,1,5,4,3,5,5,0,3,3,0\n",
      "164278899142294 7,4,1,1,7,5,1,5,4,3,5,5,0,3,3,0\n",
      "164278899142295 1,4,1,1,7,5,1,5,4,3,5,5,0,3,3,0\n",
      "164278899142312 0,4,1,1,7,5,1,5,4,3,5,5,0,3,3,0\n",
      "164278899142313 4,4,1,1,7,5,1,5,4,3,5,5,0,3,3,0\n",
      "164278899142314 3,4,1,1,7,5,1,5,4,3,5,5,0,3,3,0\n",
      "164278899142315 5,4,1,1,7,5,1,5,4,3,5,5,0,3,3,0\n",
      "164278899142316 5,4,1,1,7,5,1,5,4,3,5,5,0,3,3,0\n",
      "164278899142317 3,4,1,1,7,5,1,5,4,3,5,5,0,3,3,0\n",
      "164278899142318 7,4,1,1,7,5,1,5,4,3,5,5,0,3,3,0\n",
      "164278899142319 1,4,1,1,7,5,1,5,4,3,5,5,0,3,3,0\n",
      "164278899142328 0,4,1,1,7,5,1,5,4,3,5,5,0,3,3,0\n",
      "164278899142329 4,4,1,1,7,5,1,5,4,3,5,5,0,3,3,0\n",
      "164278899142330 1,4,1,1,7,5,1,5,4,3,5,5,0,3,3,0\n",
      "164278899142331 1,4,1,1,7,5,1,5,4,3,5,5,0,3,3,0\n",
      "164278899142332 5,4,1,1,7,5,1,5,4,3,5,5,0,3,3,0\n",
      "164278899142333 2,4,1,1,7,5,1,5,4,3,5,5,0,3,3,0\n",
      "164278899142334 7,4,1,1,7,5,1,5,4,3,5,5,0,3,3,0\n",
      "164278899142335 1,4,1,1,7,5,1,5,4,3,5,5,0,3,3,0\n",
      "164278899142344 0,4,1,1,7,5,1,5,4,3,5,5,0,3,3,0\n",
      "164278899142345 4,4,1,1,7,5,1,5,4,3,5,5,0,3,3,0\n",
      "164278899142346 7,4,1,1,7,5,1,5,4,3,5,5,0,3,3,0\n",
      "164278899142347 5,4,1,1,7,5,1,5,4,3,5,5,0,3,3,0\n",
      "164278899142348 6,4,1,1,7,5,1,5,4,3,5,5,0,3,3,0\n",
      "164278899142349 5,4,1,1,7,5,1,5,4,3,5,5,0,3,3,0\n",
      "164278899142350 7,4,1,1,7,5,1,5,4,3,5,5,0,3,3,0\n",
      "164278899142351 0,4,1,1,7,5,1,5,4,3,5,5,0,3,3,0\n",
      "164278899142376 0,4,1,1,7,5,1,5,4,3,5,5,0,3,3,0\n",
      "164278899142377 4,4,1,1,7,5,1,5,4,3,5,5,0,3,3,0\n",
      "164278899142378 3,4,1,1,7,5,1,5,4,3,5,5,0,3,3,0\n",
      "164278899142379 5,4,1,1,7,5,1,5,4,3,5,5,0,3,3,0\n",
      "164278899142380 7,4,1,1,7,5,1,5,4,3,5,5,0,3,3,0\n",
      "164278899142381 7,4,1,1,7,5,1,5,4,3,5,5,0,3,3,0\n",
      "164278899142382 7,4,1,1,7,5,1,5,4,3,5,5,0,3,3,0\n",
      "164278899142383 0,4,1,1,7,5,1,5,4,3,5,5,0,3,3,0\n",
      "164278899142392 0,4,1,1,7,5,1,5,4,3,5,5,0,3,3,0\n",
      "164278899142393 4,4,1,1,7,5,1,5,4,3,5,5,0,3,3,0\n",
      "164278899142394 1,4,1,1,7,5,1,5,4,3,5,5,0,3,3,0\n",
      "164278899142395 1,4,1,1,7,5,1,5,4,3,5,5,0,3,3,0\n",
      "164278899142396 7,4,1,1,7,5,1,5,4,3,5,5,0,3,3,0\n",
      "164278899142397 6,4,1,1,7,5,1,5,4,3,5,5,0,3,3,0\n",
      "164278899142398 7,4,1,1,7,5,1,5,4,3,5,5,0,3,3,0\n",
      "164278899142399 0,4,1,1,7,5,1,5,4,3,5,5,0,3,3,0\n",
      "164278899142528 4,4,1,1,7,5,1,5,4,3,5,5,0,3,3,0\n",
      "164278899142529 4,4,1,1,7,5,1,5,4,3,5,5,0,3,3,0\n",
      "164278899142530 6,4,1,1,7,5,1,5,4,3,5,5,0,3,3,0\n",
      "164278899142531 7,4,1,1,7,5,1,5,4,3,5,5,0,3,3,0\n",
      "164278899142532 4,4,1,1,7,5,1,5,4,3,5,5,0,3,3,0\n",
      "164278899142533 1,4,1,1,7,5,1,5,4,3,5,5,0,3,3,0\n",
      "164278899142534 5,4,1,1,7,5,1,5,4,3,5,5,0,3,3,0\n",
      "164278899142535 5,4,1,1,7,5,1,5,4,3,5,5,0,3,3,0\n",
      "164278899142536 0,4,1,1,7,5,1,5,4,3,5,5,0,3,3,0\n",
      "164278899142537 4,4,1,1,7,5,1,5,4,3,5,5,0,3,3,0\n",
      "164278899142538 7,4,1,1,7,5,1,5,4,3,5,5,0,3,3,0\n",
      "164278899142539 5,4,1,1,7,5,1,5,4,3,5,5,0,3,3,0\n",
      "164278899142540 4,4,1,1,7,5,1,5,4,3,5,5,0,3,3,0\n",
      "164278899142541 1,4,1,1,7,5,1,5,4,3,5,5,0,3,3,0\n",
      "164278899142542 5,4,1,1,7,5,1,5,4,3,5,5,0,3,3,0\n",
      "164278899142543 5,4,1,1,7,5,1,5,4,3,5,5,0,3,3,0\n",
      "164278899142584 0,4,1,1,7,5,1,5,4,3,5,5,0,3,3,0\n",
      "164278899142585 4,4,1,1,7,5,1,5,4,3,5,5,0,3,3,0\n",
      "164278899142586 1,4,1,1,7,5,1,5,4,3,5,5,0,3,3,0\n",
      "164278899142587 1,4,1,1,7,5,1,5,4,3,5,5,0,3,3,0\n",
      "164278899142588 5,4,1,1,7,5,1,5,4,3,5,5,0,3,3,0\n",
      "164278899142589 2,4,1,1,7,5,1,5,4,3,5,5,0,3,3,0\n",
      "164278899142590 5,4,1,1,7,5,1,5,4,3,5,5,0,3,3,0\n",
      "164278899142591 5,4,1,1,7,5,1,5,4,3,5,5,0,3,3,0\n"
     ]
    }
   ],
   "source": [
    "# There are eleven values of A which result in an output of 4,1,1,7,5,1,5,4,3,5,5,0,3,3,0\n",
    "\n",
    "# Want an output of 2,4,1,1,7,5,1,5,4,3,5,5,0,3,3,0\n",
    "for i in range(8):\n",
    "    trial(state, saved, i + 20534862392784 * 8)\n",
    "for i in range(8):\n",
    "    trial(state, saved, i + 20534862392785 * 8)\n",
    "for i in range(8):\n",
    "    trial(state, saved, i + 20534862392786 * 8)\n",
    "for i in range(8):\n",
    "    trial(state, saved, i + 20534862392789 * 8)\n",
    "for i in range(8):\n",
    "    trial(state, saved, i + 20534862392791 * 8)\n",
    "for i in range(8):\n",
    "    trial(state, saved, i + 20534862392793 * 8)\n",
    "for i in range(8):\n",
    "    trial(state, saved, i + 20534862392797 * 8)\n",
    "for i in range(8):\n",
    "    trial(state, saved, i + 20534862392799 * 8)\n",
    "for i in range(8):\n",
    "    trial(state, saved, i + 20534862392816 * 8)\n",
    "for i in range(8):\n",
    "    trial(state, saved, i + 20534862392817 * 8)\n",
    "for i in range(8):\n",
    "    trial(state, saved, i + 20534862392823 * 8)"
   ]
  },
  {
   "cell_type": "markdown",
   "metadata": {},
   "source": [
    "164278899142333 is the smallest value of A which results in an output of 2,4,1,1,7,5,1,5,4,3,5,5,0,3,3,0"
   ]
  }
 ],
 "metadata": {
  "kernelspec": {
   "display_name": "Python 3",
   "language": "python",
   "name": "python3"
  },
  "language_info": {
   "codemirror_mode": {
    "name": "ipython",
    "version": 3
   },
   "file_extension": ".py",
   "mimetype": "text/x-python",
   "name": "python",
   "nbconvert_exporter": "python",
   "pygments_lexer": "ipython3",
   "version": "3.13.1"
  }
 },
 "nbformat": 4,
 "nbformat_minor": 2
}
