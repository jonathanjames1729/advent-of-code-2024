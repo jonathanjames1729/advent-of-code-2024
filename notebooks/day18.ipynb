{
 "cells": [
  {
   "cell_type": "code",
   "execution_count": null,
   "metadata": {},
   "outputs": [],
   "source": [
    "import re\n",
    "\n",
    "import advent_of_code\n",
    "\n",
    "TEST = False\n",
    "SIZE = 7 if TEST else 71\n",
    "EXTRACT = 12 if TEST else 1024\n",
    "\n",
    "LOCATION_RE = re.compile(r'^(?P<x>[0-9]+),(?P<y>[0-9]+)$')\n",
    "\n",
    "locations = []\n",
    "for line in advent_of_code.load_data('day18.txt', test=TEST):\n",
    "    match = LOCATION_RE.fullmatch(line)\n",
    "    if match:\n",
    "        locations.append((int(match['x']), int(match['y'])))\n",
    "    else:\n",
    "        print(line)\n",
    "\n",
    "def steps(extract=EXTRACT):\n",
    "    grid = [[SIZE * SIZE] * SIZE for _ in range(SIZE)]\n",
    "    for x, y in locations[:extract]:\n",
    "        grid[y][x] = None\n",
    "    for line in grid:\n",
    "        line.append(None)\n",
    "    grid.append([None] * (SIZE + 1))\n",
    "\n",
    "    process = set()\n",
    "    process.add((0, 0))\n",
    "    grid[0][0] = 0\n",
    "    while process:\n",
    "        next_process = set()\n",
    "        for x, y in process:\n",
    "            next_score = grid[y][x] + 1\n",
    "            for i, j in ((1, 0), (0, 1), (-1, 0), (0, -1)):\n",
    "                score = grid[y + j][x + i]\n",
    "                if score and score > next_score:\n",
    "                    grid[y + j][x + i] = next_score\n",
    "                    next_process.add((x + i, y + j))\n",
    "        process = next_process\n",
    "\n",
    "    steps = grid[SIZE - 1][SIZE - 1]\n",
    "    return None if steps == (SIZE * SIZE) else steps\n",
    "\n",
    "print(steps())"
   ]
  },
  {
   "cell_type": "code",
   "execution_count": null,
   "metadata": {},
   "outputs": [],
   "source": [
    "good = EXTRACT\n",
    "bad = len(locations)\n",
    "while good + 1 < bad:\n",
    "    trial = good + ((bad + 1 - good) // 2)\n",
    "    if steps(extract=trial):\n",
    "        good = trial\n",
    "    else:\n",
    "        bad = trial\n",
    "\n",
    "# good is a length so the position of the first bad byte is good (rather than bad which is one beyond it)\n",
    "print(f'{locations[good][0]},{locations[good][1]}')"
   ]
  }
 ],
 "metadata": {
  "kernelspec": {
   "display_name": "Python 3",
   "language": "python",
   "name": "python3"
  },
  "language_info": {
   "codemirror_mode": {
    "name": "ipython",
    "version": 3
   },
   "file_extension": ".py",
   "mimetype": "text/x-python",
   "name": "python",
   "nbconvert_exporter": "python",
   "pygments_lexer": "ipython3",
   "version": "3.13.1"
  }
 },
 "nbformat": 4,
 "nbformat_minor": 2
}
