{
 "cells": [
  {
   "cell_type": "code",
   "execution_count": null,
   "metadata": {},
   "outputs": [],
   "source": [
    "import re\n",
    "\n",
    "import advent_of_code\n",
    "\n",
    "LINE_RE = re.compile(r'\\s*(\\d+)\\s*(\\d+)\\s*')\n",
    "\n",
    "one = []\n",
    "two = []\n",
    "\n",
    "for line in advent_of_code.load_data('day01.txt'):\n",
    "    match = LINE_RE.match(line)\n",
    "    if match:\n",
    "        one.append(int(match.group(1)))\n",
    "        two.append(int(match.group(2)))\n",
    "\n",
    "one.sort()\n",
    "two.sort()\n",
    "\n",
    "sum(abs(a - b) for a, b in zip(one, two))"
   ]
  },
  {
   "cell_type": "code",
   "execution_count": null,
   "metadata": {},
   "outputs": [],
   "source": [
    "sum(sum(filter(lambda x: x == a, two)) for a in one)"
   ]
  }
 ],
 "metadata": {
  "kernelspec": {
   "display_name": "Python 3",
   "language": "python",
   "name": "python3"
  },
  "language_info": {
   "codemirror_mode": {
    "name": "ipython",
    "version": 3
   },
   "file_extension": ".py",
   "mimetype": "text/x-python",
   "name": "python",
   "nbconvert_exporter": "python",
   "pygments_lexer": "ipython3",
   "version": "3.13.1"
  }
 },
 "nbformat": 4,
 "nbformat_minor": 2
}
