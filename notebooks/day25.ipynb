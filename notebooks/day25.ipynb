{
 "cells": [
  {
   "cell_type": "code",
   "execution_count": null,
   "metadata": {},
   "outputs": [],
   "source": [
    "import advent_of_code\n",
    "\n",
    "lock = None\n",
    "keys = []\n",
    "locks = []\n",
    "heights = None\n",
    "y = 0\n",
    "for line in advent_of_code.load_data('day25.txt'):\n",
    "    if lock is None:\n",
    "        lock = (line == '#####')\n",
    "        heights = [0, 0, 0, 0, 0]\n",
    "        y = 0\n",
    "    elif not line:\n",
    "        if lock:\n",
    "            locks.append(heights)\n",
    "        else:\n",
    "            keys.append([y - 2 - height for height in heights])\n",
    "        lock = None\n",
    "    else:\n",
    "        check = '#' if lock else '.'\n",
    "        for i, c in enumerate(line):\n",
    "            if c == check:\n",
    "                heights[i] += 1\n",
    "    y += 1\n",
    "\n",
    "total_height = y - 2\n",
    "if lock:\n",
    "    locks.append(heights)\n",
    "else:\n",
    "    keys.append([total_height - height for height in heights])\n",
    "\n",
    "count = 0\n",
    "for lock in locks:\n",
    "    for key in keys:\n",
    "        for lock_height, key_height in zip(lock, key):\n",
    "            if (lock_height + key_height) > total_height:\n",
    "                break\n",
    "        else:\n",
    "            count += 1\n",
    "print(count)"
   ]
  }
 ],
 "metadata": {
  "kernelspec": {
   "display_name": "Python 3",
   "language": "python",
   "name": "python3"
  },
  "language_info": {
   "codemirror_mode": {
    "name": "ipython",
    "version": 3
   },
   "file_extension": ".py",
   "mimetype": "text/x-python",
   "name": "python",
   "nbconvert_exporter": "python",
   "pygments_lexer": "ipython3",
   "version": "3.13.1"
  }
 },
 "nbformat": 4,
 "nbformat_minor": 2
}
