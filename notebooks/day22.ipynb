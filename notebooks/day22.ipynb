{
 "cells": [
  {
   "cell_type": "code",
   "execution_count": null,
   "metadata": {},
   "outputs": [],
   "source": [
    "import advent_of_code\n",
    "\n",
    "def evolve(secret_number, memo):\n",
    "    if secret_number in memo:\n",
    "        return memo[secret_number]\n",
    "\n",
    "    result = ((secret_number * 64) ^ secret_number) % 16777216\n",
    "    result = ((result // 32) ^ result) % 16777216\n",
    "    result = ((result * 2048) ^ result) % 16777216\n",
    "    memo[secret_number] = result\n",
    "    return result\n",
    "\n",
    "result = 0\n",
    "memo = {}\n",
    "for line in advent_of_code.load_data('day22.txt'):\n",
    "    secret_number = int(line)\n",
    "    for _ in range(2000):\n",
    "        secret_number = evolve(secret_number, memo)\n",
    "    result += secret_number\n",
    "\n",
    "print(result)"
   ]
  }
 ],
 "metadata": {
  "kernelspec": {
   "display_name": "Python 3",
   "language": "python",
   "name": "python3"
  },
  "language_info": {
   "codemirror_mode": {
    "name": "ipython",
    "version": 3
   },
   "file_extension": ".py",
   "mimetype": "text/x-python",
   "name": "python",
   "nbconvert_exporter": "python",
   "pygments_lexer": "ipython3",
   "version": "3.13.1"
  }
 },
 "nbformat": 4,
 "nbformat_minor": 2
}
