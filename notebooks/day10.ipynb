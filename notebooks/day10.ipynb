{
 "cells": [
  {
   "cell_type": "code",
   "execution_count": null,
   "metadata": {},
   "outputs": [],
   "source": [
    "import advent_of_code\n",
    "\n",
    "grid = list(map(lambda line: list(map(int, line)), advent_of_code.load_data('day10.txt')))\n",
    "\n",
    "index = 0\n",
    "path_count = []\n",
    "for line in grid:\n",
    "    path_count_line = []\n",
    "    for height in line:\n",
    "        if height == 9:\n",
    "            path_count_line.append((set([index]), 1))\n",
    "            index += 1\n",
    "        else:\n",
    "            path_count_line.append(None)\n",
    "    path_count.append(path_count_line)\n",
    "\n",
    "for level in reversed(range(9)):\n",
    "    total_ends = 0\n",
    "    total_count = 0\n",
    "    for y, line in enumerate(grid):\n",
    "        for x, height in enumerate(line):\n",
    "            if height == level:\n",
    "                ends = set()\n",
    "                count = 0\n",
    "                if x > 0 and line[x - 1] == level + 1:\n",
    "                    ends.update(path_count[y][x - 1][0])\n",
    "                    count += path_count[y][x - 1][1]\n",
    "                if y > 0 and grid[y - 1][x] == level + 1:\n",
    "                    ends.update(path_count[y - 1][x][0])\n",
    "                    count += path_count[y - 1][x][1]\n",
    "                try:\n",
    "                    if line[x + 1] == level + 1:\n",
    "                        ends.update(path_count[y][x + 1][0])\n",
    "                        count += path_count[y][x + 1][1]\n",
    "                except IndexError:\n",
    "                    pass\n",
    "                try:\n",
    "                    if grid[y + 1][x] == level + 1:\n",
    "                        ends.update(path_count[y + 1][x][0])\n",
    "                        count += path_count[y + 1][x][1]\n",
    "                except IndexError:\n",
    "                    pass\n",
    "                path_count[y][x] = (ends, count)\n",
    "                total_ends += len(ends)\n",
    "                total_count += count\n",
    "\n",
    "print(total_ends)\n",
    "print(total_count)"
   ]
  }
 ],
 "metadata": {
  "kernelspec": {
   "display_name": "Python 3",
   "language": "python",
   "name": "python3"
  },
  "language_info": {
   "codemirror_mode": {
    "name": "ipython",
    "version": 3
   },
   "file_extension": ".py",
   "mimetype": "text/x-python",
   "name": "python",
   "nbconvert_exporter": "python",
   "pygments_lexer": "ipython3",
   "version": "3.13.1"
  }
 },
 "nbformat": 4,
 "nbformat_minor": 2
}
