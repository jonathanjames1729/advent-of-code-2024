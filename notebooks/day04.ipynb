{
 "cells": [
  {
   "cell_type": "code",
   "execution_count": null,
   "metadata": {},
   "outputs": [],
   "source": [
    "import advent_of_code\n",
    "\n",
    "grid = []\n",
    "for line in advent_of_code.load_data('day04.txt'):\n",
    "    grid.append(list(line))\n",
    "\n",
    "count = 0\n",
    "for y, line in enumerate(grid):\n",
    "    for x, letter in enumerate(line):\n",
    "        if letter == 'X':\n",
    "            for x_inc in (-1, 0, 1):\n",
    "                for y_inc in (-1, 0, 1):\n",
    "                    if x_inc == 0 and y_inc == 0:\n",
    "                        continue\n",
    "                    x2, y2 = x, y\n",
    "                    for check in ('M', 'A', 'S'):\n",
    "                        x2 += x_inc\n",
    "                        y2 += y_inc\n",
    "                        if x2 < 0 or y2 < 0:\n",
    "                            break\n",
    "                        try:\n",
    "                            if grid[y2][x2] != check:\n",
    "                                break\n",
    "                        except IndexError:\n",
    "                            break\n",
    "                    else:\n",
    "                        count += 1\n",
    "\n",
    "count"
   ]
  },
  {
   "cell_type": "code",
   "execution_count": null,
   "metadata": {},
   "outputs": [],
   "source": [
    "count = 0\n",
    "for y in range(1, len(grid) - 1):\n",
    "    for x in range(1, len(grid[y]) - 1):\n",
    "        if grid[y][x] == 'A':\n",
    "            down_right_mas = (grid[y - 1][x - 1] == 'M' and grid[y + 1][x + 1] == 'S')\n",
    "            down_right_sam = (grid[y - 1][x - 1] == 'S' and grid[y + 1][x + 1] == 'M')\n",
    "            down_left_mas = (grid[y - 1][x + 1] == 'M' and grid[y + 1][x - 1] == 'S')\n",
    "            down_left_sam = (grid[y - 1][x + 1] == 'S' and grid[y + 1][x - 1] == 'M')\n",
    "            if (down_right_mas or down_right_sam) and (down_left_mas or down_left_sam):\n",
    "                count += 1\n",
    "\n",
    "count"
   ]
  }
 ],
 "metadata": {
  "kernelspec": {
   "display_name": "Python 3",
   "language": "python",
   "name": "python3"
  },
  "language_info": {
   "codemirror_mode": {
    "name": "ipython",
    "version": 3
   },
   "file_extension": ".py",
   "mimetype": "text/x-python",
   "name": "python",
   "nbconvert_exporter": "python",
   "pygments_lexer": "ipython3",
   "version": "3.13.1"
  }
 },
 "nbformat": 4,
 "nbformat_minor": 2
}
